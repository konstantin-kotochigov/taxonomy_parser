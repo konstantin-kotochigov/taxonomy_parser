{
 "cells": [
  {
   "cell_type": "code",
   "execution_count": null,
   "metadata": {},
   "outputs": [],
   "source": [
    "import pandas\n",
    "from tqdm import tqdm\n",
    "\n",
    "xls = pandas.ExcelFile(\"/srv/kkotochigov/kimberly/tax.xlsx\")\n",
    "\n",
    "attributes_sheet = xls.parse(0)[['ID','Type','Description']]\n",
    "\n",
    "fails = 0\n",
    "dataframes_to_concat = []\n",
    "for sheet_num, sheet_name in tqdm(enumerate(xls.sheet_names), total=len(xls.sheet_names)):\n",
    "    if sheet_num<2: \n",
    "        continue\n",
    "    parsed_data = xls.parse(sheet_name=sheet_name)\n",
    "    if ('ID' in parsed_data.columns) & ('Description' in parsed_data.columns):\n",
    "        parsed_data['group_name'] = sheet_name\n",
    "        parsed_data = parsed_data[['group_name','ID', 'Description']]\n",
    "        dataframes_to_concat.append(parsed_data)\n",
    "    else:\n",
    "        fails += 1\n",
    "# attributes_sheet\n",
    "values_sheet = pandas.concat(dataframes_to_concat)\n",
    "\n",
    "values_sheet.group_name.value_counts()"
   ]
  },
  {
   "cell_type": "code",
   "execution_count": null,
   "metadata": {},
   "outputs": [],
   "source": [
    "df = pandas.merge(attributes_sheet, values_sheet, left_on='Type', right_on='group_name', how='left')\n",
    "df = df.drop(columns=['Type','group_name'])\n",
    "df.columns = ['group_id','group_desc','attr_id','attr_desc']\n",
    "df.to_csv(\"taxonomy.csv\",sep=',', index=False)"
   ]
  },
  {
   "cell_type": "code",
   "execution_count": null,
   "metadata": {},
   "outputs": [],
   "source": []
  }
 ],
 "metadata": {
  "kernelspec": {
   "display_name": "Python 3",
   "language": "python",
   "name": "python3"
  },
  "language_info": {
   "codemirror_mode": {
    "name": "ipython",
    "version": 3
   },
   "file_extension": ".py",
   "mimetype": "text/x-python",
   "name": "python",
   "nbconvert_exporter": "python",
   "pygments_lexer": "ipython3",
   "version": "3.5.4"
  }
 },
 "nbformat": 4,
 "nbformat_minor": 2
}
